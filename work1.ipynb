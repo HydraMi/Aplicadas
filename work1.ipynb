{
  "nbformat": 4,
  "nbformat_minor": 0,
  "metadata": {
    "colab": {
      "provenance": [],
      "authorship_tag": "ABX9TyMlOM266iHQCuZclbgbjU2G",
      "include_colab_link": true
    },
    "kernelspec": {
      "name": "python3",
      "display_name": "Python 3"
    },
    "language_info": {
      "name": "python"
    }
  },
  "cells": [
    {
      "cell_type": "markdown",
      "metadata": {
        "id": "view-in-github",
        "colab_type": "text"
      },
      "source": [
        "<a href=\"https://colab.research.google.com/github/HydraMi/Aplicadas/blob/main/work1.ipynb\" target=\"_parent\"><img src=\"https://colab.research.google.com/assets/colab-badge.svg\" alt=\"Open In Colab\"/></a>"
      ]
    },
    {
      "cell_type": "markdown",
      "source": [
        "# **MIGUEL PEREZ OJEDA** #\n",
        "\n",
        "## AUTOBIOGRAFIA ##\n",
        "\n",
        "Soy un estudiante del Icesi en segundo semestre, me gusta practicar deporte en especial el boxeo y la natacion, tambien me gusta ver los diferenter torneos y competencias de estos mismos, como titulos mundiales u olimpicos, del boxeo me gusta el estilo de pelea fajador de Mike Tyson, Isaac Cruz pero tambien me gusta el estilo de estilistas como lo son Muhammad Ali,Floyd Mayweather y Naoya Inoue, soy una persona muy proactiva y me gusta pasar tiempo con mis amigos ya sea hablando o practicando algo. Me llama mucho la atencion la fisica, matematica, ing aeroespacial y la ing biomedica como tambien me gusta investigar temas y conceptos que basan de la programacion, inteligencia artificial. Como hobbie me gusta leer, escribir, dibujar y escuchar musica, pero tambien disfruto salir a trotar. No soy mucho de jugar videojuegos, soy mas de ver series y peliculas, me gusta ver Harry Potter, La isla siniestra y El club de la pelea, considero que son peliculas muy buenas y las recomedaria. Me gusta salir de la ciudad y ir a las playas, ciudades y centros culturales, Tambien me gusta ir al museo en especial al Museo de la Tertulia por sus salas de exposiciones, teatro al aire libre, salas didácticas y cinemateca con las que cuenta este que me da una sensacion buena y me siento relajado y comodo.\n",
        "\n",
        "\n",
        "<img src=\"https://media.airedesantafe.com.ar/adjuntos/268/imagenes/001/950/0001950979.jpg?0000-00-00-00-00-00\" width=\"250\" height=\"200\"> <img src=\"https://museolatertulia.com/wp-content/uploads/2024/01/3.jpeg\" width=\"200\" height=\"200\"> <img src=\"https://www.swim360.mx/cdn/shop/articles/michael-phelps_649x.progressive.jpg?v=1642787456\" width=\"200\" height=\"200\">\n",
        "\n",
        "\n",
        "## Mi lista de Canciones ##\n",
        "\n",
        "* Cigarettes out the Window\n",
        "  >* *Canción de TV Girl*\n",
        "  >> * *Compositor: Brad Petering*\n",
        "\n",
        "    <img src=\"https://content.whrb.org/files/7014/6664/8077/0004540408_10.jpg\" width=\"200\" height=\"200\">\n",
        "\n",
        "* Summertime Sadness\n",
        "  > * *Canción de Lana Del Rey*\n",
        "  >> * *Compositor: Rick Nowels*\n",
        "   \n",
        "   <img src=\"https://cdns-images.dzcdn.net/images/cover/967ac8605268db88a1e597394115365d/1900x1900-000000-80-0-0.jpg\" width=\"200\" height=\"200\">\n",
        "\n",
        "* Congratulations\n",
        "  > * *Canción de Mac Miller*\n",
        "  >> * *Compositor: Post Malone*\n",
        "    \n",
        "  <img src=\"https://images.genius.com/83a454fc216f6ca83dce28990d847dd2.1000x1000x1.jpg\" width=\"200\" height=\"200\">\n",
        "\n",
        "* Gimmie That Nutt\n",
        "  > * *Canción de Eazy-E*\n",
        "  >> * *Compositor: DJ Yella*\n",
        "     \n",
        "  <img src=\"https://cdns-images.dzcdn.net/images/cover/be2bd78271f0546d229db6f26a7241b9/1900x1900-000000-80-0-0.jpg\" width=\"200\" height=\"200\">\n",
        "\n",
        "* It Was a Good Day\n",
        "  > * *Canción de Ice Cube*\n",
        "  >> * *Compositor:Ice Cube*\n",
        "    \n",
        "  <img src=\"https://i.pinimg.com/originals/22/31/7d/22317da333316a0d16810b6ccfe0775f.jpg\" width=\"200\" height=\"200\">\n",
        "\n",
        "# TABLA DE MATERIAS QUE ME GUSTAN Y EL POR QUE #\n",
        "\n",
        "  | materias |   ¿por que?    |\n",
        "  |----------|----------------|\n",
        "  |   Ingles |Muy chebre el ambiente las personas y me goze mucho esa clase|\n",
        "  | Intro sis|Me gusto mucho todos los temas y aprender la logica de programacion|\n",
        "  | Algebra |Me gusto los conocimientos que adquiri y los el profe era muy chebre|\n",
        "  \n",
        "\n",
        "\n"
      ],
      "metadata": {
        "id": "GnN6k8TcnxmN"
      }
    }
  ]
}