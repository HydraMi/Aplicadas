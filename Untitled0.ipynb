{
  "nbformat": 4,
  "nbformat_minor": 0,
  "metadata": {
    "colab": {
      "provenance": [],
      "authorship_tag": "ABX9TyN5IpHeLxwvtFlcb4m7biUN",
      "include_colab_link": true
    },
    "kernelspec": {
      "name": "python3",
      "display_name": "Python 3"
    },
    "language_info": {
      "name": "python"
    }
  },
  "cells": [
    {
      "cell_type": "markdown",
      "metadata": {
        "id": "view-in-github",
        "colab_type": "text"
      },
      "source": [
        "<a href=\"https://colab.research.google.com/github/HydraMi/Aplicadas/blob/main/Untitled0.ipynb\" target=\"_parent\"><img src=\"https://colab.research.google.com/assets/colab-badge.svg\" alt=\"Open In Colab\"/></a>"
      ]
    },
    {
      "cell_type": "code",
      "execution_count": 8,
      "metadata": {
        "colab": {
          "base_uri": "https://localhost:8080/"
        },
        "id": "nty4No_PkJJc",
        "outputId": "9ad1482d-3502-4e9b-b039-8a4a5a3e83dc"
      },
      "outputs": [
        {
          "output_type": "stream",
          "name": "stdout",
          "text": [
            "Bienvenido a la calculadora\n",
            " 1.suma \n",
            " 2. Resta \n",
            " 3. Multiplicacion \n",
            " 4. Division \n",
            "2\n",
            "Digite un número: 34\n",
            "Digite otro número: 34\n",
            "La resta es:  0\n"
          ]
        }
      ],
      "source": [
        "# Calculadora\n",
        "\n",
        "print (\"Bienvenido a la calculadora\")\n",
        "\n",
        "#menu\n",
        "\n",
        "op= int(input (\" 1.suma \\n 2. Resta \\n 3. Multiplicacion \\n 4. Division \\n\"))\n",
        "\n",
        "num1 = int (input (\"Digite un número: \"))\n",
        "num2 = int (input (\"Digite otro número: \"))\n",
        "\n",
        "#operaciones\n",
        "\n",
        "if op == 1:\n",
        "    print (\"La suma es: \", num1 + num2)\n",
        "\n",
        "elif op == 2:\n",
        "    print (\"La resta es: \", num1 - num2)\n",
        "\n",
        "elif op == 3:\n",
        "    print (\"La multiplicacion es: \", num1 * num2)\n",
        "\n",
        "elif op == 4:\n",
        "    print (\"La division es: \", num1 / num2)\n",
        "\n"
      ]
    }
  ]
}