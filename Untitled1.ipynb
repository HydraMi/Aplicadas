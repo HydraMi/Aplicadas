{
  "nbformat": 4,
  "nbformat_minor": 0,
  "metadata": {
    "colab": {
      "provenance": [],
      "authorship_tag": "ABX9TyOSDzugTG6Q+y6dgkaM46iy",
      "include_colab_link": true
    },
    "kernelspec": {
      "name": "python3",
      "display_name": "Python 3"
    },
    "language_info": {
      "name": "python"
    }
  },
  "cells": [
    {
      "cell_type": "markdown",
      "metadata": {
        "id": "view-in-github",
        "colab_type": "text"
      },
      "source": [
        "<a href=\"https://colab.research.google.com/github/HydraMi/Aplicadas/blob/main/Untitled1.ipynb\" target=\"_parent\"><img src=\"https://colab.research.google.com/assets/colab-badge.svg\" alt=\"Open In Colab\"/></a>"
      ]
    },
    {
      "cell_type": "code",
      "source": [
        "y=[1,2,3,4,5,6,7,8,9,10]\n",
        "for y in y:\n",
        "  print (y**2)\n",
        "  print (y**3)\n",
        "  print (pow(y,2))"
      ],
      "metadata": {
        "colab": {
          "base_uri": "https://localhost:8080/"
        },
        "id": "FudxZhwytHP7",
        "outputId": "fde02b67-7b1b-47b5-cb13-78bd3b4e374f"
      },
      "execution_count": 68,
      "outputs": [
        {
          "output_type": "stream",
          "name": "stdout",
          "text": [
            "1\n",
            "1\n",
            "1\n",
            "4\n",
            "8\n",
            "4\n",
            "9\n",
            "27\n",
            "9\n",
            "16\n",
            "64\n",
            "16\n",
            "25\n",
            "125\n",
            "25\n",
            "36\n",
            "216\n",
            "36\n",
            "49\n",
            "343\n",
            "49\n",
            "64\n",
            "512\n",
            "64\n",
            "81\n",
            "729\n",
            "81\n",
            "100\n",
            "1000\n",
            "100\n"
          ]
        }
      ]
    },
    {
      "source": [
        "#el precio del Barril de Petroleo los ultimos 7 dias\n",
        "print (\"El precio del barril del petroleo los ultimos 7 dias\"\"\\n\")\n",
        "\n",
        "P= [331521.77,323560.97,307885.61,309157.69,314533.28]\n",
        "\n",
        "print (\"precio del petroleo hace 4 dias\")\n",
        "print(P[0])\n",
        "print (\"precio del petroleo hace 3 dias\")\n",
        "print(P[1])\n",
        "print (\"precio del petroleo hace 2 dias\")\n",
        "print(P[2])\n",
        "print (\"precio del petroleo ayer\")\n",
        "print(P[3])\n",
        "print (\"precio del petroleo hoy\")\n",
        "print(P[4],\"\\n\")\n",
        "\n",
        "print (\"El precio del litro de cocacola\")\n",
        "c=3500 #por litro\n",
        "print (c,\"\\n\")\n",
        "\n",
        "print (\"El precio del barril de cocacola\")\n",
        "co= (c*159) #por barril\n",
        "print (co,\"\\n\") #precio del barril\n",
        "\n",
        "x=[314533.28,794936.5]\n",
        "print(\"Precio al dia de hoy de el barril de petroleo\")\n",
        "print(x[0])\n",
        "print(\"Precio al dia de hoy de el barril de cocacola\")\n",
        "print(x[1], \"\\n\")\n",
        "\n",
        "if x[0] < x[1]:\n",
        "  conclusion = \"El precio del barril de Coca-Cola (COP $794.936,5) es más caro que el precio del barril de petróleo (COP $314.533,28).\"\n",
        "  print(conclusion)"
      ],
      "cell_type": "code",
      "metadata": {
        "colab": {
          "base_uri": "https://localhost:8080/"
        },
        "id": "JoH0AYTH63j0",
        "outputId": "02058bca-4d15-4316-f587-1f49efaf48a2"
      },
      "execution_count": 73,
      "outputs": [
        {
          "output_type": "stream",
          "name": "stdout",
          "text": [
            "El precio del barril del petroleo los ultimos 7 dias\n",
            "\n",
            "precio del petroleo hace 4 dias\n",
            "331521.77\n",
            "precio del petroleo hace 3 dias\n",
            "323560.97\n",
            "precio del petroleo hace 2 dias\n",
            "307885.61\n",
            "precio del petroleo ayer\n",
            "309157.69\n",
            "precio del petroleo hoy\n",
            "314533.28 \n",
            "\n",
            "El precio del litro de cocacola\n",
            "3500 \n",
            "\n",
            "El precio del barril de cocacola\n",
            "556500 \n",
            "\n",
            "Precio al dia de hoy de el barril de petroleo\n",
            "314533.28\n",
            "Precio al dia de hoy de el barril de cocacola\n",
            "794936.5 \n",
            "\n",
            "El precio del barril de Coca-Cola (COP $794.936,5) es más caro que el precio del barril de petróleo (COP $314.533,28).\n"
          ]
        }
      ]
    }
  ]
}