{
  "nbformat": 4,
  "nbformat_minor": 0,
  "metadata": {
    "colab": {
      "provenance": [],
      "authorship_tag": "ABX9TyPa41PqS0oaPKCkdp5XqDcx",
      "include_colab_link": true
    },
    "kernelspec": {
      "name": "python3",
      "display_name": "Python 3"
    },
    "language_info": {
      "name": "python"
    }
  },
  "cells": [
    {
      "cell_type": "markdown",
      "metadata": {
        "id": "view-in-github",
        "colab_type": "text"
      },
      "source": [
        "<a href=\"https://colab.research.google.com/github/HydraMi/Aplicadas/blob/main/Untitled1.ipynb\" target=\"_parent\"><img src=\"https://colab.research.google.com/assets/colab-badge.svg\" alt=\"Open In Colab\"/></a>"
      ]
    },
    {
      "cell_type": "markdown",
      "source": [
        "#Punto 3#\n",
        "##3.1##\n"
      ],
      "metadata": {
        "id": "-9NWzJjk-NdM"
      }
    },
    {
      "cell_type": "code",
      "source": [
        "\n",
        "def Operaciones (numeros):\n",
        "  cuadrados = [num**2 for num in numeros]\n",
        "  cubos = [num**3 for num in numeros]\n",
        "  raices = [num**0.5 for num in numeros]  # Calculamos la raíz cuadrada elevando a 0.5\n",
        "\n",
        "  return cuadrados, cubos, raices\n",
        "\n",
        "# Ejemplo de uso:\n",
        "mi_lista = [2, 4, 6, 8, 10]\n",
        "resultado = Operaciones (mi_lista)\n",
        "\n",
        "print(\"Cuadrados:\", resultado[0])\n",
        "print(\"Cubos:\", resultado[1])\n",
        "print(\"Raíces:\", resultado[2])\n",
        "\n"
      ],
      "metadata": {
        "colab": {
          "base_uri": "https://localhost:8080/"
        },
        "id": "FudxZhwytHP7",
        "outputId": "f89a4924-4664-47ec-e386-d498473db6f4"
      },
      "execution_count": 77,
      "outputs": [
        {
          "output_type": "stream",
          "name": "stdout",
          "text": [
            "Cuadrados: [4, 16, 36, 64, 100]\n",
            "Cubos: [8, 64, 216, 512, 1000]\n",
            "Raíces: [1.4142135623730951, 2.0, 2.449489742783178, 2.8284271247461903, 3.1622776601683795]\n"
          ]
        }
      ]
    },
    {
      "cell_type": "markdown",
      "source": [
        "#Punto 3 #\n",
        "##3.3##"
      ],
      "metadata": {
        "id": "zdU8pm53_-Xa"
      }
    },
    {
      "source": [
        "\n",
        "print (\"El precio del barril del petroleo los ultimos 7 dias\"\"\\n\")\n",
        "\n",
        "P= [331521.77,323560.97,307885.61,309157.69,314533.28]\n",
        "\n",
        "print (\"precio del petroleo hace 4 dias\")\n",
        "print(P[0])\n",
        "print (\"precio del petroleo hace 3 dias\")\n",
        "print(P[1])\n",
        "print (\"precio del petroleo hace 2 dias\")\n",
        "print(P[2])\n",
        "print (\"precio del petroleo ayer\")\n",
        "print(P[3])\n",
        "print (\"precio del petroleo hoy\")\n",
        "print(P[4],\"\\n\")\n",
        "\n",
        "print (\"El precio del litro de cocacola\")\n",
        "c=3500 #por litro\n",
        "print (c,\"\\n\")\n",
        "\n",
        "print (\"El precio del barril de cocacola\")\n",
        "co= (c*159) #por barril\n",
        "print (co,\"\\n\") #precio del barril\n",
        "\n",
        "x=[314533.28,794936.5]\n",
        "print(\"Precio al dia de hoy de el barril de petroleo\")\n",
        "print(x[0])\n",
        "print(\"Precio al dia de hoy de el barril de cocacola\")\n",
        "print(x[1], \"\\n\")\n",
        "\n",
        "if x[0] < x[1]:\n",
        "  conclusion = \"El precio del barril de Coca-Cola (COP $794.936,5) es más caro que el precio del barril de petróleo (COP $314.533,28), el precio del barril de Coca-Cola es aproximadamente un 152.5% más alto que el precio del barril de petróleo..\"\n",
        "  print(conclusion)"
      ],
      "cell_type": "code",
      "metadata": {
        "colab": {
          "base_uri": "https://localhost:8080/"
        },
        "id": "JoH0AYTH63j0",
        "outputId": "5ce94c72-8852-4c33-e4af-f66e7bb6d189"
      },
      "execution_count": 78,
      "outputs": [
        {
          "output_type": "stream",
          "name": "stdout",
          "text": [
            "El precio del barril del petroleo los ultimos 7 dias\n",
            "\n",
            "precio del petroleo hace 4 dias\n",
            "331521.77\n",
            "precio del petroleo hace 3 dias\n",
            "323560.97\n",
            "precio del petroleo hace 2 dias\n",
            "307885.61\n",
            "precio del petroleo ayer\n",
            "309157.69\n",
            "precio del petroleo hoy\n",
            "314533.28 \n",
            "\n",
            "El precio del litro de cocacola\n",
            "3500 \n",
            "\n",
            "El precio del barril de cocacola\n",
            "556500 \n",
            "\n",
            "Precio al dia de hoy de el barril de petroleo\n",
            "314533.28\n",
            "Precio al dia de hoy de el barril de cocacola\n",
            "794936.5 \n",
            "\n",
            "El precio del barril de Coca-Cola (COP $794.936,5) es más caro que el precio del barril de petróleo (COP $314.533,28), el precio del barril de Coca-Cola es aproximadamente un 152.5% más alto que el precio del barril de petróleo..\n"
          ]
        }
      ]
    }
  ]
}