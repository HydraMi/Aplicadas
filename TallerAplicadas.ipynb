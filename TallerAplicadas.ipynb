{
  "nbformat": 4,
  "nbformat_minor": 0,
  "metadata": {
    "colab": {
      "provenance": [],
      "authorship_tag": "ABX9TyNDJBx4deVT0NjmYe4w1p9Y",
      "include_colab_link": true
    },
    "kernelspec": {
      "name": "python3",
      "display_name": "Python 3"
    },
    "language_info": {
      "name": "python"
    }
  },
  "cells": [
    {
      "cell_type": "markdown",
      "metadata": {
        "id": "view-in-github",
        "colab_type": "text"
      },
      "source": [
        "<a href=\"https://colab.research.google.com/github/HydraMi/Aplicadas/blob/main/TallerAplicadas.ipynb\" target=\"_parent\"><img src=\"https://colab.research.google.com/assets/colab-badge.svg\" alt=\"Open In Colab\"/></a>"
      ]
    },
    {
      "cell_type": "markdown",
      "source": [
        "#Ejercicios 4,17,25,37,66#\n"
      ],
      "metadata": {
        "id": "BaOO2EUTWK1O"
      }
    },
    {
      "cell_type": "markdown",
      "source": [
        "#$4).$#\n",
        "\n",
        "$$\\sum_{k=1}^{\\infty} = \\frac{-1^{k+1}}{k3^k}$$\n",
        "\n",
        "* **k=1**\n",
        "$$\\frac{-1^{2}}{3} = \\frac{1}{3} $$\n",
        "\n",
        "* **k=2**\n",
        "$$\\frac{-1^{3}}{18} = \\frac{-1}{18} $$\n",
        "\n",
        "* **k=3**\n",
        "$$\\frac{-1^{4}}{81} = \\frac{1}{81} $$\n",
        "\n",
        "* **k=4**\n",
        "$$\\frac{-1^{5}}{324} = \\frac{-1}{324} $$\n",
        "\n",
        "\n",
        "**Los 4 primeros valores de la sumatoria son:**\n",
        "\n",
        "$[\\frac{1}{3} , \\frac{-1}{18} , \\frac{1}{81} , \\frac{-1}{324} + ...]$\n",
        "\n",
        "\n",
        "\n"
      ],
      "metadata": {
        "id": "IUPQL5W2OVlo"
      }
    },
    {
      "cell_type": "markdown",
      "source": [
        "$17).$\n",
        "\n",
        "$$\\sum_{k=1}^{\\infty} = \\frac{(-1)^{k-1}}{2^{k-1}}$$\n",
        "\n",
        "* **Se puede determinar que :**\n",
        "\n",
        "**La razon es :** $\\frac {1}{2}$\n",
        "\n",
        "**Entonces como $|r|> 1$ es convergente podemos asumir que $\\frac {1}{2}$ es menor que 1 la serie es convergente.**\n",
        "\n",
        "* **Encontrando la suma de la serie :**\n",
        "\n",
        "$a=1$\n",
        "\n",
        "$r=\\frac {1}{2}$\n",
        "\n",
        "\n",
        "$S = \\frac{1}{1 - \\left(-\\frac{1}{2}\\right)} = \\frac{1}{1 + \\frac{1}{2}} = \\frac{1}{\\frac{3}{2}} = \\frac{2}{3}$\n",
        "\n"
      ],
      "metadata": {
        "id": "9OADcK8mTrg3"
      }
    },
    {
      "cell_type": "markdown",
      "source": [
        "#$25).$\n",
        "###**Multiplicamos por 10 ambos lados para mover el punto decimal:**\n",
        "\n",
        "$10x = 2.222\\ldots$\n",
        "\n",
        "\n",
        "###**Restamos las dos ecuaciones:**\n",
        "\n",
        "$10x - x = 2.222\\ldots - 0.222\\ldots$\n",
        "\n",
        "\n",
        "###**Obtenemos:**\n",
        "\n",
        "$9x = 2$\n",
        "\n",
        "###**resolvemos para $( x )$:**\n",
        "\n",
        "$x = \\frac{2}{9}$\n",
        "\n",
        "\n",
        "###**Por lo tanto**, $ 0.222= \\frac{2}{9}.$"
      ],
      "metadata": {
        "id": "nyxkktuIjv0J"
      }
    },
    {
      "cell_type": "markdown",
      "source": [
        "#$37).$\n",
        "$$\\sum_{k=1}^{\\infty} = {-1^{k}}$$\n",
        "\n",
        "###**Consideremos la serie:**\n",
        "\n",
        "$\\sum_{k=1}^{\\infty} (-1)^k$\n",
        "\n",
        "###**Los primeros términos de la serie son:**\n",
        "\n",
        "$1, -1, 1, -1, 1, -1, ...$\n",
        "\n",
        "###**Si calculamos las sumas parciales, obtenemos:**\n",
        "\n",
        "$S_2 = 1 - 1 = 0$\n",
        "\n",
        "$S_3 = 1 - 1 + 1 = 1$\n",
        "\n",
        "$S_4 = 1 - 1 + 1 - 1 = 0$\n",
        "\n",
        "$S_5 = 1 - 1 + 1 - 1 + 1 = 1$\n",
        "\n",
        "###**Las sumas parciales no convergen a un valor fijo y oscilan entre \\( 0 \\) y \\( 1 \\). Por lo tanto, la serie no tiene un límite y es $divergente$.**\n"
      ],
      "metadata": {
        "id": "mu75M5YbkS2W"
      }
    },
    {
      "cell_type": "markdown",
      "source": [
        "# **Ejemplo de la paradoja de Zenón**\n",
        "\n",
        "\n",
        "$$\n",
        "\\begin{aligned}\n",
        "    &\\text{La velocidad de Aquiles es } v_A = 10 \\, \\text{m/s}, \\\\\n",
        "    &\\text{La velocidad de la tortuga es } v_T = 1 \\, \\text{m/s}, \\\\\n",
        "    &\\text{La distancia inicial entre ellos es } d_0 = 10 \\, \\text{metros}.\n",
        "\\end{aligned}$$\n",
        "\n",
        "### El tiempo que tarda Aquiles en alcanzar el punto donde estaba la tortuga inicialmente es:\n",
        "\n",
        "$$t_1 = \\frac{d_0}{v_A}$$\n",
        "\n",
        "### En este tiempo, la tortuga ha avanzado una distancia:\n",
        "\n",
        "$$d_1 = v_T \\cdot t_1$$\n",
        "\n",
        "### El tiempo para alcanzar el nuevo punto es:\n",
        "\n",
        "$$t_2 = \\frac{d_1}{v_A}$$\n",
        "\n",
        "### El proceso continúa indefinidamente. La suma total de los tiempos es:\n",
        "\n",
        "$$T = t_1 + t_2 + t_3 + \\dots$$\n",
        "\n",
        "### Esta es una serie geométrica con el primer término:\n",
        "\n",
        "$$t_1 = \\frac{d_0}{v_A}$$\n",
        "\n",
        "### Y razón:\n",
        "\n",
        "$$r = \\frac{v_T}{v_A}$$\n",
        "\n",
        "### La suma de esta serie es:\n",
        "\n",
        "$$T = \\frac{\\frac{d_0}{v_A}}{1 - \\frac{v_T}{v_A}}$$\n",
        "\n",
        "### Sustituyendo los valores:\n",
        "\n",
        "$$T = \\frac{\\frac{10}{10}}{1 - \\frac{1}{10}} = \\frac{1}{\\frac{9}{10}} = \\frac{10}{9} , {segundos}$$\n",
        "\n",
        "### Por lo tanto, Aquiles alcanzará a la tortuga en:\n",
        "\n",
        "$$\\frac{10}{9} ,{segundos}$$\n"
      ],
      "metadata": {
        "id": "bQ-Fv0KZn8Yd"
      }
    }
  ]
}